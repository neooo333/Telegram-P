{
 "cells": [
  {
   "cell_type": "code",
   "execution_count": 27,
   "id": "0099314f",
   "metadata": {},
   "outputs": [],
   "source": [
    "import pandas as pd\n",
    "import requests as r\n",
    "import json "
   ]
  },
  {
   "cell_type": "code",
   "execution_count": 4,
   "id": "c3f1ae8f",
   "metadata": {},
   "outputs": [
    {
     "data": {
      "text/plain": [
       "'e58ce95c87d963e53385b8cb8a37187d'"
      ]
     },
     "execution_count": 4,
     "metadata": {},
     "output_type": "execute_result"
    }
   ],
   "source": [
    "with open (\"fin_modeling_key.txt\", \"r\") as fin_key:\n",
    "    fkey = fin_key.read ().strip ()"
   ]
  },
  {
   "cell_type": "code",
   "execution_count": 33,
   "id": "9d0ebf63",
   "metadata": {},
   "outputs": [],
   "source": [
    "def exchange_name (company:str):\n",
    "    url = f'https://financialmodelingprep.com/stable/search-symbol?query={company}&apikey={fkey}'\n",
    "    data = pd.DataFrame (r.get (url).json ()) ['exchangeFullName']\n",
    "    data = data.to_list ()\n",
    "    return data"
   ]
  },
  {
   "cell_type": "code",
   "execution_count": 34,
   "id": "97cdb3a7",
   "metadata": {},
   "outputs": [
    {
     "data": {
      "text/plain": [
       "['NASDAQ Global Select',\n",
       " 'London Stock Exchange',\n",
       " 'CBOE CA',\n",
       " 'Mexican Stock Exchange',\n",
       " 'Deutsche Börse',\n",
       " 'Bombay Stock Exchange',\n",
       " 'Bombay Stock Exchange']"
      ]
     },
     "execution_count": 34,
     "metadata": {},
     "output_type": "execute_result"
    }
   ],
   "source": [
    "data = exchange_name ('AAPL').copy ()\n",
    "data"
   ]
  },
  {
   "cell_type": "code",
   "execution_count": 31,
   "id": "561d5d20",
   "metadata": {},
   "outputs": [
    {
     "data": {
      "text/html": [
       "<div>\n",
       "<style scoped>\n",
       "    .dataframe tbody tr th:only-of-type {\n",
       "        vertical-align: middle;\n",
       "    }\n",
       "\n",
       "    .dataframe tbody tr th {\n",
       "        vertical-align: top;\n",
       "    }\n",
       "\n",
       "    .dataframe thead th {\n",
       "        text-align: right;\n",
       "    }\n",
       "</style>\n",
       "<table border=\"1\" class=\"dataframe\">\n",
       "  <thead>\n",
       "    <tr style=\"text-align: right;\">\n",
       "      <th></th>\n",
       "      <th>symbol</th>\n",
       "      <th>name</th>\n",
       "      <th>currency</th>\n",
       "      <th>exchangeFullName</th>\n",
       "      <th>exchange</th>\n",
       "    </tr>\n",
       "  </thead>\n",
       "  <tbody>\n",
       "    <tr>\n",
       "      <th>0</th>\n",
       "      <td>AAPL</td>\n",
       "      <td>Apple Inc.</td>\n",
       "      <td>USD</td>\n",
       "      <td>NASDAQ Global Select</td>\n",
       "      <td>NASDAQ</td>\n",
       "    </tr>\n",
       "    <tr>\n",
       "      <th>1</th>\n",
       "      <td>AAPL.L</td>\n",
       "      <td>LS 1x Apple Tracker ETC</td>\n",
       "      <td>GBp</td>\n",
       "      <td>London Stock Exchange</td>\n",
       "      <td>LSE</td>\n",
       "    </tr>\n",
       "    <tr>\n",
       "      <th>2</th>\n",
       "      <td>AAPL.NE</td>\n",
       "      <td>Apple Inc.</td>\n",
       "      <td>CAD</td>\n",
       "      <td>CBOE CA</td>\n",
       "      <td>NEO</td>\n",
       "    </tr>\n",
       "    <tr>\n",
       "      <th>3</th>\n",
       "      <td>AAPL.MX</td>\n",
       "      <td>Apple Inc.</td>\n",
       "      <td>MXN</td>\n",
       "      <td>Mexican Stock Exchange</td>\n",
       "      <td>MEX</td>\n",
       "    </tr>\n",
       "    <tr>\n",
       "      <th>4</th>\n",
       "      <td>AAPL.DE</td>\n",
       "      <td>Apple Inc.</td>\n",
       "      <td>EUR</td>\n",
       "      <td>Deutsche Börse</td>\n",
       "      <td>XETRA</td>\n",
       "    </tr>\n",
       "    <tr>\n",
       "      <th>5</th>\n",
       "      <td>AAPLUSTRAD.BO</td>\n",
       "      <td>AA Plus Tradelink Limited</td>\n",
       "      <td>INR</td>\n",
       "      <td>Bombay Stock Exchange</td>\n",
       "      <td>BSE</td>\n",
       "    </tr>\n",
       "    <tr>\n",
       "      <th>6</th>\n",
       "      <td>HARIAAPL.BO</td>\n",
       "      <td>Haria Apparels Limited</td>\n",
       "      <td>INR</td>\n",
       "      <td>Bombay Stock Exchange</td>\n",
       "      <td>BSE</td>\n",
       "    </tr>\n",
       "  </tbody>\n",
       "</table>\n",
       "</div>"
      ],
      "text/plain": [
       "          symbol                       name currency        exchangeFullName  \\\n",
       "0           AAPL                 Apple Inc.      USD    NASDAQ Global Select   \n",
       "1         AAPL.L    LS 1x Apple Tracker ETC      GBp   London Stock Exchange   \n",
       "2        AAPL.NE                 Apple Inc.      CAD                 CBOE CA   \n",
       "3        AAPL.MX                 Apple Inc.      MXN  Mexican Stock Exchange   \n",
       "4        AAPL.DE                 Apple Inc.      EUR          Deutsche Börse   \n",
       "5  AAPLUSTRAD.BO  AA Plus Tradelink Limited      INR   Bombay Stock Exchange   \n",
       "6    HARIAAPL.BO     Haria Apparels Limited      INR   Bombay Stock Exchange   \n",
       "\n",
       "  exchange  \n",
       "0   NASDAQ  \n",
       "1      LSE  \n",
       "2      NEO  \n",
       "3      MEX  \n",
       "4    XETRA  \n",
       "5      BSE  \n",
       "6      BSE  "
      ]
     },
     "execution_count": 31,
     "metadata": {},
     "output_type": "execute_result"
    }
   ],
   "source": [
    "data"
   ]
  },
  {
   "cell_type": "code",
   "execution_count": null,
   "id": "92471b96",
   "metadata": {},
   "outputs": [],
   "source": []
  }
 ],
 "metadata": {
  "kernelspec": {
   "display_name": "Python (venv)",
   "language": "python",
   "name": "venv"
  },
  "language_info": {
   "codemirror_mode": {
    "name": "ipython",
    "version": 3
   },
   "file_extension": ".py",
   "mimetype": "text/x-python",
   "name": "python",
   "nbconvert_exporter": "python",
   "pygments_lexer": "ipython3",
   "version": "3.11.2"
  }
 },
 "nbformat": 4,
 "nbformat_minor": 5
}
