{
 "cells": [
  {
   "cell_type": "code",
   "execution_count": 2,
   "id": "0099314f",
   "metadata": {},
   "outputs": [],
   "source": [
    "import pandas as pd\n",
    "import requests as r\n",
    "import json \n",
    "import yfinance as yf"
   ]
  },
  {
   "cell_type": "markdown",
   "id": "7f691946",
   "metadata": {},
   "source": [
    "# Fin Modeling Prep"
   ]
  },
  {
   "cell_type": "code",
   "execution_count": null,
   "id": "c3f1ae8f",
   "metadata": {},
   "outputs": [],
   "source": [
    "with open (\"fin_modeling_key.txt\", \"r\") as fin_key:\n",
    "    fkey = fin_key.read ().strip ()"
   ]
  },
  {
   "cell_type": "code",
   "execution_count": null,
   "id": "9d0ebf63",
   "metadata": {},
   "outputs": [],
   "source": [
    "def exchange_name (company:str):\n",
    "    url = f'https://financialmodelingprep.com/stable/search-symbol?query={company}&apikey={fkey}'\n",
    "    data = pd.DataFrame (r.get (url).json ()) ['exchangeFullName']\n",
    "    data = data.to_list ()\n",
    "    return data"
   ]
  },
  {
   "cell_type": "code",
   "execution_count": null,
   "id": "561d5d20",
   "metadata": {},
   "outputs": [],
   "source": [
    "r.get (f'https://financialmodelingprep.com/stable/sector-pe-snapshot?industry=Biotechnology&apikey={fkey}')"
   ]
  },
  {
   "cell_type": "code",
   "execution_count": null,
   "id": "aca06608-1b3a-4869-8dae-f4e217b538b8",
   "metadata": {},
   "outputs": [],
   "source": []
  },
  {
   "cell_type": "markdown",
   "id": "c57a4cf7",
   "metadata": {},
   "source": [
    "# YFinance QQQ"
   ]
  },
  {
   "cell_type": "code",
   "execution_count": null,
   "id": "07bf9dd0-d4a7-4919-9dcf-48847a31c7fe",
   "metadata": {},
   "outputs": [],
   "source": []
  },
  {
   "cell_type": "code",
   "execution_count": null,
   "id": "92471b96",
   "metadata": {
    "scrolled": true
   },
   "outputs": [],
   "source": [
    "# Choose a ticker (example: Apple)\n",
    "ticker = yf.Tickers(\"AAPL\")\n",
    "\n",
    "# Get stock info\n",
    "info = ticker.info\n",
    "\n",
    "# Extract PE ratio\n",
    "pe_ratio = info.get(\"trailingPE\")\n",
    "forward_pe = info.get(\"forwardPE\")\n",
    "\n",
    "print(\"Trailing P/E:\", pe_ratio)\n",
    "print(\"Forward P/E:\", forward_pe)\n"
   ]
  },
  {
   "cell_type": "code",
   "execution_count": null,
   "id": "7b6f554c",
   "metadata": {},
   "outputs": [],
   "source": [
    "tickers_info.tickers [\"AAPL\"].info ['trailingPE']"
   ]
  },
  {
   "cell_type": "code",
   "execution_count": null,
   "id": "b7abe36d",
   "metadata": {
    "scrolled": true
   },
   "outputs": [],
   "source": [
    "qqq_tickers = pd.read_csv (\"tickers_qqq.csv\", header =None)\n",
    "\n",
    "def pe_qqq ():\n",
    "    tick_list = qqq_tickers[0].to_list ()\n",
    "    tickers_info = yf.Tickers(tick_list)\n",
    "\n",
    "    dictionary_pe = dict ()\n",
    "\n",
    "    for tick in tick_list:\n",
    "        try:\n",
    "            temp_tick = tickers_info.tickers [tick].info ['trailingPE']\n",
    "        except:\n",
    "            temp_tick = None\n",
    "            print (f\"Ticker {tick} doesn't have PE ratio!\")\n",
    "\n",
    "        try:\n",
    "            temp_tick_div = tickers_info.tickers [tick].info ['dividendYield']\n",
    "        except:\n",
    "            temp_tick_div = None\n",
    "            print (f\"Ticker {tick} doesn't have Dividends!\")\n",
    "        \n",
    "        dictionary_pe[tick] = [temp_tick, temp_tick_div]\n",
    "    \n",
    "    df_pe = pd.DataFrame (data = dictionary_pe.values (), columns = [\"PE\", \"DIV\"],index = dictionary_pe.keys ())\n",
    "    df_pe = df_pe.dropna(subset = 'PE', axis=0)\n",
    "    df_pe_sorted_head = df_pe.sort_values (by = \"PE\", ascending = True).head ()\n",
    "    return df_pe_sorted_head\n",
    "\n",
    "\n",
    "\n",
    "\n",
    "\n",
    "  "
   ]
  },
  {
   "cell_type": "code",
   "execution_count": null,
   "id": "95f503ab",
   "metadata": {
    "scrolled": true
   },
   "outputs": [],
   "source": [
    "pe_qqq ()"
   ]
  },
  {
   "cell_type": "code",
   "execution_count": null,
   "id": "be86e282",
   "metadata": {},
   "outputs": [],
   "source": [
    "df_pe.sort_values (by = \"DIV\", ascending = False)"
   ]
  },
  {
   "cell_type": "code",
   "execution_count": null,
   "id": "5323b3a2",
   "metadata": {
    "scrolled": true
   },
   "outputs": [],
   "source": [
    "tickers_info.tickers [\"AAPL\"].info "
   ]
  },
  {
   "cell_type": "code",
   "execution_count": null,
   "id": "4bd749cc",
   "metadata": {},
   "outputs": [],
   "source": [
    "gold = yf.download(tickers=\"AAPL\", start= \"2025-01-04\", end = \"2025-01-30\")"
   ]
  },
  {
   "cell_type": "code",
   "execution_count": null,
   "id": "9067f7b0",
   "metadata": {},
   "outputs": [],
   "source": [
    "gold"
   ]
  },
  {
   "cell_type": "markdown",
   "id": "eeefdb97-1b30-4f40-a2f5-935dd68a6cb9",
   "metadata": {},
   "source": [
    "# Yfinance SNP 500"
   ]
  },
  {
   "cell_type": "code",
   "execution_count": 18,
   "id": "c68f7263-3bbf-43bc-afad-cf1832929f7c",
   "metadata": {},
   "outputs": [],
   "source": [
    "from bs4 import BeautifulSoup\n",
    "import requests as r\n",
    "import json "
   ]
  },
  {
   "cell_type": "code",
   "execution_count": 30,
   "id": "7fc61daf-1f30-4447-9485-a05081fedd7e",
   "metadata": {},
   "outputs": [
    {
     "name": "stderr",
     "output_type": "stream",
     "text": [
      "/var/folders/0v/jsbcqdjd3sv127_tv0gljk400000gn/T/ipykernel_41245/1714327150.py:7: FutureWarning: Passing literal html to 'read_html' is deprecated and will be removed in a future version. To read from a literal string, wrap it in a 'StringIO' object.\n",
      "  df = pd.read_html (wik_snp500)[0]\n"
     ]
    }
   ],
   "source": [
    "headers = {\n",
    "    \"User-Agent\": \"Mozilla/5.0 (Windows NT 10.0; Win64; x64) \"\n",
    "                  \"AppleWebKit/537.36 (KHTML, like Gecko) \"\n",
    "                  \"Chrome/120.0 Safari/537.36\"\n",
    "}\n",
    "wik_snp500 = r.get (\"https://en.wikipedia.org/wiki/List_of_S%26P_500_companies\", headers = headers).text\n",
    "df = pd.read_html (wik_snp500)[0]"
   ]
  },
  {
   "cell_type": "code",
   "execution_count": 40,
   "id": "74722b1e-afb6-44f6-9b9c-16fd18dee5c1",
   "metadata": {},
   "outputs": [],
   "source": [
    "df.Symbol.to_csv ('snp500.csv', index = False)"
   ]
  },
  {
   "cell_type": "code",
   "execution_count": null,
   "id": "b2ddf8e8-42ad-4c6d-bd2f-2cdaad76c223",
   "metadata": {},
   "outputs": [],
   "source": []
  },
  {
   "cell_type": "code",
   "execution_count": 42,
   "id": "7a4efb4b-e67b-46e6-9dea-19304726591f",
   "metadata": {
    "scrolled": true
   },
   "outputs": [],
   "source": [
    "snp_tickers = pd.read_csv (\"snp500.csv\")"
   ]
  },
  {
   "cell_type": "code",
   "execution_count": 45,
   "id": "6a4b31ff-6d73-4e86-9fa1-1626a68762fa",
   "metadata": {},
   "outputs": [
    {
     "data": {
      "text/html": [
       "<div>\n",
       "<style scoped>\n",
       "    .dataframe tbody tr th:only-of-type {\n",
       "        vertical-align: middle;\n",
       "    }\n",
       "\n",
       "    .dataframe tbody tr th {\n",
       "        vertical-align: top;\n",
       "    }\n",
       "\n",
       "    .dataframe thead th {\n",
       "        text-align: right;\n",
       "    }\n",
       "</style>\n",
       "<table border=\"1\" class=\"dataframe\">\n",
       "  <thead>\n",
       "    <tr style=\"text-align: right;\">\n",
       "      <th></th>\n",
       "      <th>Symbol</th>\n",
       "    </tr>\n",
       "  </thead>\n",
       "  <tbody>\n",
       "    <tr>\n",
       "      <th>0</th>\n",
       "      <td>MMM</td>\n",
       "    </tr>\n",
       "    <tr>\n",
       "      <th>1</th>\n",
       "      <td>AOS</td>\n",
       "    </tr>\n",
       "    <tr>\n",
       "      <th>2</th>\n",
       "      <td>ABT</td>\n",
       "    </tr>\n",
       "    <tr>\n",
       "      <th>3</th>\n",
       "      <td>ABBV</td>\n",
       "    </tr>\n",
       "    <tr>\n",
       "      <th>4</th>\n",
       "      <td>ACN</td>\n",
       "    </tr>\n",
       "    <tr>\n",
       "      <th>...</th>\n",
       "      <td>...</td>\n",
       "    </tr>\n",
       "    <tr>\n",
       "      <th>498</th>\n",
       "      <td>XYL</td>\n",
       "    </tr>\n",
       "    <tr>\n",
       "      <th>499</th>\n",
       "      <td>YUM</td>\n",
       "    </tr>\n",
       "    <tr>\n",
       "      <th>500</th>\n",
       "      <td>ZBRA</td>\n",
       "    </tr>\n",
       "    <tr>\n",
       "      <th>501</th>\n",
       "      <td>ZBH</td>\n",
       "    </tr>\n",
       "    <tr>\n",
       "      <th>502</th>\n",
       "      <td>ZTS</td>\n",
       "    </tr>\n",
       "  </tbody>\n",
       "</table>\n",
       "<p>503 rows × 1 columns</p>\n",
       "</div>"
      ],
      "text/plain": [
       "    Symbol\n",
       "0      MMM\n",
       "1      AOS\n",
       "2      ABT\n",
       "3     ABBV\n",
       "4      ACN\n",
       "..     ...\n",
       "498    XYL\n",
       "499    YUM\n",
       "500   ZBRA\n",
       "501    ZBH\n",
       "502    ZTS\n",
       "\n",
       "[503 rows x 1 columns]"
      ]
     },
     "execution_count": 45,
     "metadata": {},
     "output_type": "execute_result"
    }
   ],
   "source": [
    "snp_tickers = pd.read_csv (\"snp500.csv\")\n",
    "snp_tickers"
   ]
  },
  {
   "cell_type": "code",
   "execution_count": 49,
   "id": "0df7bbb4-7618-4c05-99ba-cb513c64cd82",
   "metadata": {},
   "outputs": [],
   "source": [
    "snp_tickers = pd.read_csv (\"snp500.csv\")\n",
    "\n",
    "\n",
    "def pe_snp ():\n",
    "    tick_list = snp_tickers['Symbol'].to_list ()\n",
    "    tickers_info = yf.Tickers(tick_list)\n",
    "\n",
    "    dictionary_pe = dict ()\n",
    "\n",
    "    for tick in tick_list:\n",
    "        try:\n",
    "            temp_tick = tickers_info.tickers [tick].info ['trailingPE']\n",
    "        except:\n",
    "            temp_tick = None\n",
    "            print (f\"Ticker {tick} doesn't have PE ratio!\")\n",
    "\n",
    "        try:\n",
    "            temp_tick_div = tickers_info.tickers [tick].info ['dividendYield']\n",
    "        except:\n",
    "            temp_tick_div = None\n",
    "            print (f\"Ticker {tick} doesn't have Dividends!\")\n",
    "        \n",
    "        dictionary_pe[tick] = [temp_tick, temp_tick_div]\n",
    "    \n",
    "    df_pe = pd.DataFrame (data = dictionary_pe.values (), columns = [\"PE\", \"DIV\"],index = dictionary_pe.keys ())\n",
    "    df_pe = df_pe.dropna(subset = 'PE', axis=0)\n",
    "    df_pe_sorted_head = df_pe.sort_values (by = \"PE\", ascending = True).head ()\n",
    "    return df_pe_sorted_head"
   ]
  },
  {
   "cell_type": "code",
   "execution_count": 50,
   "id": "17315677-13a7-4e46-ac96-875e5c326bb7",
   "metadata": {
    "scrolled": true
   },
   "outputs": [
    {
     "name": "stdout",
     "output_type": "stream",
     "text": [
      "Ticker ADBE doesn't have Dividends!\n",
      "Ticker AMD doesn't have Dividends!\n",
      "Ticker ABNB doesn't have Dividends!\n",
      "Ticker AKAM doesn't have Dividends!\n",
      "Ticker ALB doesn't have PE ratio!\n",
      "Ticker ARE doesn't have PE ratio!\n",
      "Ticker ALGN doesn't have Dividends!\n",
      "Ticker AMZN doesn't have Dividends!\n",
      "Ticker APP doesn't have Dividends!\n",
      "Ticker APTV doesn't have Dividends!\n",
      "Ticker ACGL doesn't have Dividends!\n",
      "Ticker ANET doesn't have Dividends!\n",
      "Ticker ADSK doesn't have Dividends!\n",
      "Ticker AZO doesn't have Dividends!\n",
      "Ticker AXON doesn't have Dividends!\n",
      "Ticker BAX doesn't have PE ratio!\n",
      "Ticker BRK.B doesn't have PE ratio!\n",
      "Ticker BRK.B doesn't have Dividends!\n",
      "Ticker BIIB doesn't have Dividends!\n",
      "Ticker XYZ doesn't have Dividends!\n",
      "Ticker BA doesn't have PE ratio!\n",
      "Ticker BA doesn't have Dividends!\n",
      "Ticker BSX doesn't have Dividends!\n",
      "Ticker BF.B doesn't have PE ratio!\n",
      "Ticker BF.B doesn't have Dividends!\n",
      "Ticker BLDR doesn't have Dividends!\n",
      "Ticker CDNS doesn't have Dividends!\n",
      "Ticker KMX doesn't have Dividends!\n",
      "Ticker CCL doesn't have Dividends!\n",
      "Ticker CBRE doesn't have Dividends!\n",
      "Ticker CNC doesn't have Dividends!\n",
      "Ticker CRL doesn't have PE ratio!\n",
      "Ticker CRL doesn't have Dividends!\n",
      "Ticker CHTR doesn't have Dividends!\n",
      "Ticker CMG doesn't have Dividends!\n",
      "Ticker COIN doesn't have Dividends!\n",
      "Ticker STZ doesn't have PE ratio!\n",
      "Ticker COO doesn't have Dividends!\n",
      "Ticker CPRT doesn't have Dividends!\n",
      "Ticker CPAY doesn't have Dividends!\n",
      "Ticker CSGP doesn't have Dividends!\n",
      "Ticker CRWD doesn't have PE ratio!\n",
      "Ticker CRWD doesn't have Dividends!\n",
      "Ticker CCI doesn't have PE ratio!\n",
      "Ticker DDOG doesn't have Dividends!\n",
      "Ticker DVA doesn't have Dividends!\n",
      "Ticker DAY doesn't have Dividends!\n",
      "Ticker DECK doesn't have Dividends!\n",
      "Ticker DXCM doesn't have Dividends!\n",
      "Ticker DLTR doesn't have Dividends!\n",
      "Ticker DASH doesn't have Dividends!\n",
      "Ticker DOW doesn't have PE ratio!\n",
      "Ticker EW doesn't have Dividends!\n",
      "Ticker EPAM doesn't have Dividends!\n",
      "Ticker EL doesn't have PE ratio!\n",
      "Ticker EXE doesn't have PE ratio!\n",
      "Ticker FFIV doesn't have Dividends!\n",
      "Ticker FICO doesn't have Dividends!\n",
      "Ticker FSLR doesn't have Dividends!\n",
      "Ticker FI doesn't have Dividends!\n",
      "Ticker FTNT doesn't have Dividends!\n",
      "Ticker IT doesn't have Dividends!\n",
      "Ticker GNRC doesn't have Dividends!\n",
      "Ticker GDDY doesn't have Dividends!\n",
      "Ticker HAS doesn't have PE ratio!\n",
      "Ticker HSIC doesn't have Dividends!\n",
      "Ticker HOLX doesn't have Dividends!\n",
      "Ticker IDXX doesn't have Dividends!\n",
      "Ticker INCY doesn't have Dividends!\n",
      "Ticker PODD doesn't have Dividends!\n",
      "Ticker INTC doesn't have PE ratio!\n",
      "Ticker INTC doesn't have Dividends!\n",
      "Ticker IFF doesn't have PE ratio!\n",
      "Ticker IP doesn't have PE ratio!\n",
      "Ticker ISRG doesn't have Dividends!\n",
      "Ticker IQV doesn't have Dividends!\n",
      "Ticker KEY doesn't have PE ratio!\n",
      "Ticker KEYS doesn't have Dividends!\n",
      "Ticker KHC doesn't have PE ratio!\n",
      "Ticker LYV doesn't have Dividends!\n",
      "Ticker LULU doesn't have Dividends!\n",
      "Ticker MTD doesn't have Dividends!\n",
      "Ticker MGM doesn't have Dividends!\n",
      "Ticker MCHP doesn't have PE ratio!\n",
      "Ticker MRNA doesn't have PE ratio!\n",
      "Ticker MRNA doesn't have Dividends!\n",
      "Ticker MHK doesn't have Dividends!\n",
      "Ticker MOH doesn't have Dividends!\n",
      "Ticker MNST doesn't have Dividends!\n",
      "Ticker NFLX doesn't have Dividends!\n",
      "Ticker NCLH doesn't have Dividends!\n",
      "Ticker NVR doesn't have Dividends!\n",
      "Ticker ORLY doesn't have Dividends!\n",
      "Ticker ON doesn't have Dividends!\n",
      "Ticker PLTR doesn't have Dividends!\n",
      "Ticker PANW doesn't have Dividends!\n",
      "Ticker PYPL doesn't have Dividends!\n",
      "Ticker PTC doesn't have Dividends!\n",
      "Ticker HOOD doesn't have Dividends!\n",
      "Ticker NOW doesn't have Dividends!\n",
      "Ticker SJM doesn't have PE ratio!\n",
      "Ticker SOLV doesn't have Dividends!\n",
      "Ticker SMCI doesn't have Dividends!\n",
      "Ticker SNPS doesn't have Dividends!\n",
      "Ticker TTWO doesn't have PE ratio!\n",
      "Ticker TTWO doesn't have Dividends!\n",
      "Ticker TDY doesn't have Dividends!\n",
      "Ticker TSLA doesn't have Dividends!\n",
      "Ticker TTD doesn't have Dividends!\n",
      "Ticker TDG doesn't have Dividends!\n",
      "Ticker TRMB doesn't have Dividends!\n",
      "Ticker TYL doesn't have Dividends!\n",
      "Ticker UBER doesn't have Dividends!\n",
      "Ticker ULTA doesn't have Dividends!\n",
      "Ticker UAL doesn't have Dividends!\n",
      "Ticker VRTX doesn't have Dividends!\n",
      "Ticker VTRS doesn't have PE ratio!\n",
      "Ticker WBD doesn't have Dividends!\n",
      "Ticker WAT doesn't have Dividends!\n",
      "Ticker WDAY doesn't have Dividends!\n",
      "Ticker ZBRA doesn't have Dividends!\n"
     ]
    }
   ],
   "source": [
    "obj = pe_snp ()"
   ]
  },
  {
   "cell_type": "code",
   "execution_count": 58,
   "id": "4289d601-7ccb-49c7-a093-d4245aad1060",
   "metadata": {
    "scrolled": true
   },
   "outputs": [],
   "source": [
    "obj['name'] = obj.index"
   ]
  },
  {
   "cell_type": "code",
   "execution_count": 59,
   "id": "c4ce1489-6dd0-4de4-bbf7-0ab02367e6ba",
   "metadata": {},
   "outputs": [],
   "source": [
    "snp_tickers_up = pd.concat ([snp_tickers, obj], axis =1)"
   ]
  }
 ],
 "metadata": {
  "kernelspec": {
   "display_name": "Python Telegram-proj",
   "language": "python",
   "name": "venv"
  },
  "language_info": {
   "codemirror_mode": {
    "name": "ipython",
    "version": 3
   },
   "file_extension": ".py",
   "mimetype": "text/x-python",
   "name": "python",
   "nbconvert_exporter": "python",
   "pygments_lexer": "ipython3",
   "version": "3.13.5"
  }
 },
 "nbformat": 4,
 "nbformat_minor": 5
}
